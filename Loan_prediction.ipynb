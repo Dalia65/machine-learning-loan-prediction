{
  "nbformat": 4,
  "nbformat_minor": 0,
  "metadata": {
    "colab": {
      "provenance": [],
      "authorship_tag": "ABX9TyPrNuxBw8MFnt4AMlcN92pZ",
      "include_colab_link": true
    },
    "kernelspec": {
      "name": "python3",
      "display_name": "Python 3"
    },
    "language_info": {
      "name": "python"
    }
  },
  "cells": [
    {
      "cell_type": "markdown",
      "metadata": {
        "id": "view-in-github",
        "colab_type": "text"
      },
      "source": [
        "<a href=\"https://colab.research.google.com/github/Dalia65/machine-learning-loan-prediction/blob/main/Loan_prediction.ipynb\" target=\"_parent\"><img src=\"https://colab.research.google.com/assets/colab-badge.svg\" alt=\"Open In Colab\"/></a>"
      ]
    },
    {
      "cell_type": "code",
      "execution_count": null,
      "metadata": {
        "id": "KaLxnYSb1y7h"
      },
      "outputs": [],
      "source": [
        "import pandas                   as pd\n",
        "import numpy                    as np\n",
        "import matplotlib.pyplot        as plt\n",
        "import seaborn                  as sns\n",
        "import sklearn.cluster          as cluster\n",
        "import sklearn.metrics          as metrics\n",
        "from sklearn.neighbors          import KNeighborsClassifier\n",
        "from sklearn                    import ensemble\n",
        "from   sklearn                  import svm\n",
        "from sklearn.ensemble           import VotingClassifier\n",
        "from sklearn.svm                import SVC\n",
        "from sklearn.model_selection    import train_test_split\n",
        "from sklearn.preprocessing      import StandardScaler\n",
        "from sklearn.linear_model       import LogisticRegression\n",
        "from sklearn.metrics            import classification_report, confusion_matrix, accuracy_score\n",
        "from sklearn.preprocessing      import LabelEncoder"
      ]
    },
    {
      "cell_type": "markdown",
      "source": [
        "# New section"
      ],
      "metadata": {
        "id": "WECct9Pt2e35"
      }
    },
    {
      "cell_type": "code",
      "source": [
        "import pandas as pd\n",
        "df = pd.read_csv(\"/content/Loan Prediction - Loan Prediction.csv\")\n",
        "print(df)"
      ],
      "metadata": {
        "colab": {
          "base_uri": "https://localhost:8080/"
        },
        "id": "SVcrVW6A3pUG",
        "outputId": "cd102baf-06f4-4b88-981a-792141b10dd5"
      },
      "execution_count": null,
      "outputs": [
        {
          "output_type": "stream",
          "name": "stdout",
          "text": [
            "      Loan_ID  Gender Married Dependents     Education Self_Employed  \\\n",
            "0    LP001002    Male      No          0      Graduate            No   \n",
            "1    LP001003    Male     Yes          1      Graduate            No   \n",
            "2    LP001005    Male     Yes          0      Graduate           Yes   \n",
            "3    LP001006    Male     Yes          0  Not Graduate            No   \n",
            "4    LP001008    Male      No          0      Graduate            No   \n",
            "..        ...     ...     ...        ...           ...           ...   \n",
            "609  LP002978  Female      No          0      Graduate            No   \n",
            "610  LP002979    Male     Yes         3+      Graduate            No   \n",
            "611  LP002983    Male     Yes          1      Graduate            No   \n",
            "612  LP002984    Male     Yes          2      Graduate            No   \n",
            "613  LP002990  Female      No          0      Graduate           Yes   \n",
            "\n",
            "     ApplicantIncome  CoapplicantIncome  LoanAmount  Loan_Amount_Term  \\\n",
            "0               5849                0.0         NaN             360.0   \n",
            "1               4583             1508.0       128.0             360.0   \n",
            "2               3000                0.0        66.0             360.0   \n",
            "3               2583             2358.0       120.0             360.0   \n",
            "4               6000                0.0       141.0             360.0   \n",
            "..               ...                ...         ...               ...   \n",
            "609             2900                0.0        71.0             360.0   \n",
            "610             4106                0.0        40.0             180.0   \n",
            "611             8072              240.0       253.0             360.0   \n",
            "612             7583                0.0       187.0             360.0   \n",
            "613             4583                0.0       133.0             360.0   \n",
            "\n",
            "     Credit_History Property_Area Loan_Status  \n",
            "0               1.0         Urban           Y  \n",
            "1               1.0         Rural           N  \n",
            "2               1.0         Urban           Y  \n",
            "3               1.0         Urban           Y  \n",
            "4               1.0         Urban           Y  \n",
            "..              ...           ...         ...  \n",
            "609             1.0         Rural           Y  \n",
            "610             1.0         Rural           Y  \n",
            "611             1.0         Urban           Y  \n",
            "612             1.0         Urban           Y  \n",
            "613             0.0     Semiurban           N  \n",
            "\n",
            "[614 rows x 13 columns]\n"
          ]
        }
      ]
    },
    {
      "cell_type": "code",
      "source": [
        "df[\"ApplicantIncome\"].hist()"
      ],
      "metadata": {
        "colab": {
          "base_uri": "https://localhost:8080/",
          "height": 282
        },
        "id": "DOYgc982lmkt",
        "outputId": "992118f5-2dcc-4aed-8cc0-ab79785427c9"
      },
      "execution_count": null,
      "outputs": [
        {
          "output_type": "execute_result",
          "data": {
            "text/plain": [
              "<matplotlib.axes._subplots.AxesSubplot at 0x7f3df4281a50>"
            ]
          },
          "metadata": {},
          "execution_count": 590
        },
        {
          "output_type": "display_data",
          "data": {
            "text/plain": [
              "<Figure size 432x288 with 1 Axes>"
            ],
            "image/png": "[encoded data removed]"
          },
          "metadata": {
            "needs_background": "light"
          }
        }
      ]
    },
    {
      "cell_type": "code",
      "source": [
        "df[\"CoapplicantIncome\"].hist()"
      ],
      "metadata": {
        "colab": {
          "base_uri": "https://localhost:8080/",
          "height": 282
        },
        "id": "dH0tu2QflpVY",
        "outputId": "ca320c1f-f00e-4b46-defa-7a8dd0136474"
      },
      "execution_count": null,
      "outputs": [
        {
          "output_type": "execute_result",
          "data": {
            "text/plain": [
              "<matplotlib.axes._subplots.AxesSubplot at 0x7f3df41aab90>"
            ]
          },
          "metadata": {},
          "execution_count": 591
        },
        {
          "output_type": "display_data",
          "data": {
            "text/plain": [
              "<Figure size 432x288 with 1 Axes>"
            ],
            "image/png": "[encoded data removed]"
          },
          "metadata": {
            "needs_background": "light"
          }
        }
      ]
    },
    {
      "cell_type": "code",
      "source": [
        "sns.jointplot('ApplicantIncome','LoanAmount',data=df,kind='scatter')"
      ],
      "metadata": {
        "colab": {
          "base_uri": "https://localhost:8080/",
          "height": 513
        },
        "id": "_KkiUjcwls8g",
        "outputId": "f16b84a9-a580-4090-9a6c-cb5441376ed0"
      },
      "execution_count": null,
      "outputs": [
        {
          "output_type": "stream",
          "name": "stderr",
          "text": [
            "/usr/local/lib/python3.7/dist-packages/seaborn/_decorators.py:43: FutureWarning: Pass the following variables as keyword args: x, y. From version 0.12, the only valid positional argument will be `data`, and passing other arguments without an explicit keyword will result in an error or misinterpretation.\n",
            "  FutureWarning\n"
          ]
        },
        {
          "output_type": "execute_result",
          "data": {
            "text/plain": [
              "<seaborn.axisgrid.JointGrid at 0x7f3df412f590>"
            ]
          },
          "metadata": {},
          "execution_count": 592
        },
        {
          "output_type": "display_data",
          "data": {
            "text/plain": [
              "<Figure size 432x432 with 3 Axes>"
            ],
            "image/png": "[encoded data removed]"
          },
          "metadata": {
            "needs_background": "light"
          }
        }
      ]
    },
    {
      "cell_type": "code",
      "source": [
        "df.duplicated().sum()"
      ],
      "metadata": {
        "colab": {
          "base_uri": "https://localhost:8080/"
        },
        "id": "W7wAzMa4PWai",
        "outputId": "76e29d28-5096-4198-c603-264ba1eb98de"
      },
      "execution_count": null,
      "outputs": [
        {
          "output_type": "execute_result",
          "data": {
            "text/plain": [
              "0"
            ]
          },
          "metadata": {},
          "execution_count": 593
        }
      ]
    },
    {
      "cell_type": "code",
      "source": [
        "df.isnull().sum()"
      ],
      "metadata": {
        "colab": {
          "base_uri": "https://localhost:8080/"
        },
        "id": "RMVlpIKGPdar",
        "outputId": "28917d0b-082c-4d87-e753-88819432664f"
      },
      "execution_count": null,
      "outputs": [
        {
          "output_type": "execute_result",
          "data": {
            "text/plain": [
              "Loan_ID               0\n",
              "Gender               13\n",
              "Married               3\n",
              "Dependents           15\n",
              "Education             0\n",
              "Self_Employed        32\n",
              "ApplicantIncome       0\n",
              "CoapplicantIncome     0\n",
              "LoanAmount           22\n",
              "Loan_Amount_Term     14\n",
              "Credit_History       50\n",
              "Property_Area         0\n",
              "Loan_Status           0\n",
              "dtype: int64"
            ]
          },
          "metadata": {},
          "execution_count": 594
        }
      ]
    },
    {
      "cell_type": "code",
      "source": [
        "  corr= df.corr()\n",
        "  print(\"The Correlation Between Features are:    \")\n",
        "  print(df.corr())"
      ],
      "metadata": {
        "colab": {
          "base_uri": "https://localhost:8080/"
        },
        "id": "8ElqNKrHaLA9",
        "outputId": "d8628b68-e1fe-4a9f-ea4f-f343acfb7fb9"
      },
      "execution_count": null,
      "outputs": [
        {
          "output_type": "stream",
          "name": "stdout",
          "text": [
            "The Correlation Between Features are:    \n",
            "                   ApplicantIncome  CoapplicantIncome  LoanAmount  \\\n",
            "ApplicantIncome           1.000000          -0.116605    0.570909   \n",
            "CoapplicantIncome        -0.116605           1.000000    0.188619   \n",
            "LoanAmount                0.570909           0.188619    1.000000   \n",
            "Loan_Amount_Term         -0.045306          -0.059878    0.039447   \n",
            "Credit_History           -0.014715          -0.002056   -0.008433   \n",
            "\n",
            "                   Loan_Amount_Term  Credit_History  \n",
            "ApplicantIncome           -0.045306       -0.014715  \n",
            "CoapplicantIncome         -0.059878       -0.002056  \n",
            "LoanAmount                 0.039447       -0.008433  \n",
            "Loan_Amount_Term           1.000000        0.001470  \n",
            "Credit_History             0.001470        1.000000  \n"
          ]
        }
      ]
    },
    {
      "cell_type": "code",
      "source": [
        "df.drop(['Loan_ID'] ,axis=1,inplace=True)\n",
        "#df.dropna(subset=['Gender'], inplace=True)\n",
        "df['Gender'].fillna(df['Gender'].mode()[0], inplace=True)\n",
        "df['Married'].fillna(df['Married'].mode()[0], inplace=True)\n",
        "#df.dropna(subset=['Married'], inplace=True)\n",
        "df['Dependents'].fillna(df['Dependents'].mode()[0], inplace=True)\n",
        "\n",
        "\n",
        "df.dropna(subset=['Self_Employed'], inplace=True)\n",
        "#df['Self_Employed'].fillna(df['Self_Employed'].mode()[0], inplace=True)\n",
        "\n",
        "df['LoanAmount'].fillna(df['LoanAmount'].mean(), inplace=True)\n",
        "#df.fillna(df['Loan_Amount_Term'].mode()[0], inplace=True)\n",
        "df['Credit_History'].fillna(df['Credit_History'].mean(), inplace=True)\n",
        "df['Loan_Amount_Term'].fillna(df['Loan_Amount_Term'].mean(), inplace=True)\n",
        "#df.fillna(df['Credit_History'].mode())"
      ],
      "metadata": {
        "id": "E4KRpoZ-4L7W"
      },
      "execution_count": null,
      "outputs": []
    },
    {
      "cell_type": "code",
      "source": [
        "df.isnull().sum()"
      ],
      "metadata": {
        "colab": {
          "base_uri": "https://localhost:8080/"
        },
        "id": "ysadX3sFPnor",
        "outputId": "ab14c1e6-a96a-46ed-a2dd-5d0e84bf2350"
      },
      "execution_count": null,
      "outputs": [
        {
          "output_type": "execute_result",
          "data": {
            "text/plain": [
              "Gender               0\n",
              "Married              0\n",
              "Dependents           0\n",
              "Education            0\n",
              "Self_Employed        0\n",
              "ApplicantIncome      0\n",
              "CoapplicantIncome    0\n",
              "LoanAmount           0\n",
              "Loan_Amount_Term     0\n",
              "Credit_History       0\n",
              "Property_Area        0\n",
              "Loan_Status          0\n",
              "dtype: int64"
            ]
          },
          "metadata": {},
          "execution_count": 597
        }
      ]
    },
    {
      "cell_type": "code",
      "source": [
        "df.duplicated().sum()"
      ],
      "metadata": {
        "colab": {
          "base_uri": "https://localhost:8080/"
        },
        "id": "jsCrUfut4g3G",
        "outputId": "cf32c79e-0ebd-485c-f0fd-f1307a612256"
      },
      "execution_count": null,
      "outputs": [
        {
          "output_type": "execute_result",
          "data": {
            "text/plain": [
              "0"
            ]
          },
          "metadata": {},
          "execution_count": 598
        }
      ]
    },
    {
      "cell_type": "code",
      "source": [
        "from sklearn.preprocessing import LabelEncoder\n",
        "encoded_columns = ['Gender', 'Married', 'Education', 'Self_Employed', 'Property_Area', 'Loan_Status','Dependents']\n",
        "labelencoder_X = LabelEncoder()\n",
        "for col in encoded_columns:\n",
        "    df[col] = labelencoder_X.fit_transform(df[col])"
      ],
      "metadata": {
        "id": "XzWmNkRQ4xu4"
      },
      "execution_count": null,
      "outputs": []
    },
    {
      "cell_type": "code",
      "source": [
        "  x = df.drop(columns=['Loan_Status'])\n",
        "  y = df['Loan_Status']"
      ],
      "metadata": {
        "id": "wTDYQVZrFh7v"
      },
      "execution_count": null,
      "outputs": []
    },
    {
      "cell_type": "code",
      "source": [
        "x_train, X_test, y_train, Y_test = train_test_split(x, y, test_size = 0.25, random_state = 1, shuffle = True)\n",
        "x_train.shape, X_test.shape, y_train.shape, Y_test.shape"
      ],
      "metadata": {
        "colab": {
          "base_uri": "https://localhost:8080/"
        },
        "id": "97hPXMkN41xc",
        "outputId": "3c97218e-40a2-4488-b09a-ebc47f6eef47"
      },
      "execution_count": null,
      "outputs": [
        {
          "output_type": "execute_result",
          "data": {
            "text/plain": [
              "((436, 11), (146, 11), (436,), (146,))"
            ]
          },
          "metadata": {},
          "execution_count": 601
        }
      ]
    },
    {
      "cell_type": "code",
      "source": [
        "df[\"Loan_Status\"] = df[\"Loan_Status\"].map({\"N\": 0, \"Y\": 1})\n",
        "df[\"Gender\"] = df[\"Gender\"].map({\"Male\": 0 ,\"Female\": 1})\n",
        "df[\"Married\"] = df[\"Married\"].map({\"No\": 0, \"Yes\": 1})\n",
        "df[\"Education\"] = df[\"Education\"].map({\"Not Graduate\": 0, \"Graduate\": 1})\n",
        "df[\"Self_Employed\"] = df[\"Self_Employed\"].map({\"No\": 0, \"Yes\": 1})\n",
        "df[\"Property_Area\"] = df[\"Property_Area\"].map({\"Urban\": 0, \"Rural\": 1, \"Semiurban\": 2})\n"
      ],
      "metadata": {
        "id": "Ajgw7oiu5QJt"
      },
      "execution_count": null,
      "outputs": []
    },
    {
      "cell_type": "code",
      "source": [
        "\n",
        "df['Dependents'] = pd.to_numeric(df['Dependents'],errors = 'coerce')\n",
        "df['Dependents'] = df['Dependents'].astype(float)"
      ],
      "metadata": {
        "id": "Cv10OAZYHa80"
      },
      "execution_count": null,
      "outputs": []
    },
    {
      "cell_type": "code",
      "source": [
        "df.info()"
      ],
      "metadata": {
        "colab": {
          "base_uri": "https://localhost:8080/"
        },
        "id": "5hWNGVNDFvlL",
        "outputId": "e93138e9-981e-4941-c052-c25c95ac91c1"
      },
      "execution_count": null,
      "outputs": [
        {
          "output_type": "stream",
          "name": "stdout",
          "text": [
            "<class 'pandas.core.frame.DataFrame'>\n",
            "Int64Index: 582 entries, 0 to 613\n",
            "Data columns (total 12 columns):\n",
            " #   Column             Non-Null Count  Dtype  \n",
            "---  ------             --------------  -----  \n",
            " 0   Gender             0 non-null      float64\n",
            " 1   Married            0 non-null      float64\n",
            " 2   Dependents         582 non-null    float64\n",
            " 3   Education          0 non-null      float64\n",
            " 4   Self_Employed      0 non-null      float64\n",
            " 5   ApplicantIncome    582 non-null    int64  \n",
            " 6   CoapplicantIncome  582 non-null    float64\n",
            " 7   LoanAmount         582 non-null    float64\n",
            " 8   Loan_Amount_Term   582 non-null    float64\n",
            " 9   Credit_History     582 non-null    float64\n",
            " 10  Property_Area      0 non-null      float64\n",
            " 11  Loan_Status        0 non-null      float64\n",
            "dtypes: float64(11), int64(1)\n",
            "memory usage: 59.1 KB\n"
          ]
        }
      ]
    },
    {
      "cell_type": "code",
      "source": [
        "  llf = LogisticRegression()\n",
        "  llf.fit(x_train,y_train)\n",
        "  #y_pred= llf.predict(X_test)\n",
        "  #accuracy = accuracy_score(Y_test,y_pred)\n",
        "  #accuracy\n",
        "print(llf.predict(X_test))\n",
        "accuracy = accuracy_score(Y_test,y_pred)\n",
        "accuracy"
      ],
      "metadata": {
        "colab": {
          "base_uri": "https://localhost:8080/"
        },
        "id": "Qyiwj7x-KI-8",
        "outputId": "19ab8ffd-f773-4baf-85e9-6a2e41f8ef9c"
      },
      "execution_count": null,
      "outputs": [
        {
          "output_type": "stream",
          "name": "stdout",
          "text": [
            "[1 1 1 1 1 1 1 0 1 1 1 1 1 1 1 1 1 1 1 1 1 1 1 0 1 1 1 1 1 1 1 1 1 1 1 1 1\n",
            " 1 1 1 1 1 0 1 0 0 0 1 1 1 1 1 0 1 1 1 1 1 1 1 1 0 1 1 1 1 1 1 1 0 1 1 1 1\n",
            " 1 1 1 1 0 1 1 1 1 1 1 1 1 1 1 1 1 1 1 1 1 1 1 1 1 1 1 1 1 1 1 1 0 1 1 0 1\n",
            " 1 1 1 1 1 1 0 1 1 1 1 1 1 1 1 1 1 1 1 0 1 1 1 0 1 1 1 1 1 1 1 1 1 1 1]\n"
          ]
        },
        {
          "output_type": "stream",
          "name": "stderr",
          "text": [
            "/usr/local/lib/python3.7/dist-packages/sklearn/linear_model/_logistic.py:818: ConvergenceWarning: lbfgs failed to converge (status=1):\n",
            "STOP: TOTAL NO. of ITERATIONS REACHED LIMIT.\n",
            "\n",
            "Increase the number of iterations (max_iter) or scale the data as shown in:\n",
            "    https://scikit-learn.org/stable/modules/preprocessing.html\n",
            "Please also refer to the documentation for alternative solver options:\n",
            "    https://scikit-learn.org/stable/modules/linear_model.html#logistic-regression\n",
            "  extra_warning_msg=_LOGISTIC_SOLVER_CONVERGENCE_MSG,\n"
          ]
        },
        {
          "output_type": "execute_result",
          "data": {
            "text/plain": [
              "0.8287671232876712"
            ]
          },
          "metadata": {},
          "execution_count": 605
        }
      ]
    },
    {
      "cell_type": "code",
      "source": [
        "   rf =ensemble.RandomForestClassifier(n_estimators=300)\n",
        "   rf.fit(x_train, y_train)\n",
        "   y_pred= rf.predict(X_test)\n",
        "   accuracy = accuracy_score(Y_test,y_pred)\n",
        "   accuracy"
      ],
      "metadata": {
        "colab": {
          "base_uri": "https://localhost:8080/"
        },
        "id": "6Yt5H2AvSkpS",
        "outputId": "884fb263-625a-49f8-ba66-671d56a0d0ae"
      },
      "execution_count": null,
      "outputs": [
        {
          "output_type": "execute_result",
          "data": {
            "text/plain": [
              "0.8287671232876712"
            ]
          },
          "metadata": {},
          "execution_count": 606
        }
      ]
    },
    {
      "cell_type": "code",
      "source": [
        "knn = KNeighborsClassifier(n_neighbors=7)\n",
        " \n",
        "knn.fit(x_train, y_train)\n",
        "print(knn.predict(X_test))\n",
        "accuracy = accuracy_score(Y_test,y_pred)\n",
        "accuracy"
      ],
      "metadata": {
        "colab": {
          "base_uri": "https://localhost:8080/"
        },
        "id": "sZdu0Y1VjT5O",
        "outputId": "3df30cbd-2716-4ca2-8c67-1fb4458fda13"
      },
      "execution_count": null,
      "outputs": [
        {
          "output_type": "stream",
          "name": "stdout",
          "text": [
            "[1 0 1 1 1 1 1 0 1 1 1 0 1 1 1 0 0 1 1 1 1 1 1 0 1 1 1 1 1 1 1 1 0 1 1 1 1\n",
            " 1 1 1 1 1 1 0 1 1 1 1 1 1 0 1 1 1 0 1 1 1 0 1 1 1 1 1 1 1 1 1 1 1 1 1 0 0\n",
            " 0 1 1 1 1 0 0 1 1 1 0 0 1 0 1 1 1 1 1 1 1 1 0 1 1 1 1 1 0 1 1 1 1 0 0 1 1\n",
            " 1 1 1 0 1 1 1 1 1 1 0 0 1 1 1 1 1 1 1 1 1 1 0 1 1 1 1 1 1 1 1 1 1 1 1]\n"
          ]
        },
        {
          "output_type": "execute_result",
          "data": {
            "text/plain": [
              "0.8287671232876712"
            ]
          },
          "metadata": {},
          "execution_count": 607
        }
      ]
    },
    {
      "cell_type": "code",
      "source": [
        "  from sklearn.naive_bayes        import GaussianNB\n",
        "  gnb = GaussianNB()\n",
        "  gnb.fit(x_train, y_train)\n",
        "  y_pred= gnb.predict(X_test)\n",
        "  accuracy = accuracy_score(Y_test,y_pred)\n",
        "  accuracy"
      ],
      "metadata": {
        "colab": {
          "base_uri": "https://localhost:8080/"
        },
        "id": "WPyfmUpZS3UG",
        "outputId": "ce6db0a0-48b0-4480-ec09-77fb6ece8a5c"
      },
      "execution_count": null,
      "outputs": [
        {
          "output_type": "execute_result",
          "data": {
            "text/plain": [
              "0.8287671232876712"
            ]
          },
          "metadata": {},
          "execution_count": 608
        }
      ]
    },
    {
      "cell_type": "code",
      "source": [
        "class Input:\n",
        "     def input(self , infile,model):\n",
        "        df=pd.read_csv(infile)\n",
        "        df.drop(['Loan_ID'] ,axis=1,inplace=True)\n",
        "        #df.dropna(subset=['Gender'], inplace=True)\n",
        "        df['Gender'].fillna(df['Gender'].mode()[0], inplace=True)\n",
        "        df['Married'].fillna(df['Married'].mode()[0], inplace=True)\n",
        "        #df.dropna(subset=['Married'], inplace=True)\n",
        "        df['Dependents'].fillna(df['Dependents'].mode()[0], inplace=True)\n",
        "\n",
        "        df.dropna(subset=['Self_Employed'], inplace=True)\n",
        "        #df['Self_Employed'].fillna(df['Self_Employed'].mode()[0], inplace=True)\n",
        "\n",
        "        df['LoanAmount'].fillna(df['LoanAmount'].mean(), inplace=True)\n",
        "        #df.fillna(df['Loan_Amount_Term'].mode()[0], inplace=True)\n",
        "        df['Credit_History'].fillna(df['Credit_History'].mean(), inplace=True)\n",
        "        df['Loan_Amount_Term'].fillna(df['Loan_Amount_Term'].mean(), inplace=True)\n",
        "        #df.fillna(df['Credit_History'].mode())\n",
        "        from sklearn.preprocessing import LabelEncoder\n",
        "        encoded_columns = ['Gender', 'Married', 'Education', 'Self_Employed', 'Property_Area', 'Loan_Status','Dependents']\n",
        "        labelencoder_X = LabelEncoder()\n",
        "        for col in encoded_columns:\n",
        "          df[col] = labelencoder_X.fit_transform(df[col])\n",
        "        \n",
        "        mydata = df.drop(columns=['Loan_Status'])\n",
        "        y_pred= model.predict(mydata)\n",
        "        return mydata,y_pred"
      ],
      "metadata": {
        "id": "7zC1n63dZ_u3"
      },
      "execution_count": null,
      "outputs": []
    },
    {
      "cell_type": "code",
      "source": [
        "#VotingClassifierModel = VotingClassifier(estimators=[('llf',llf),('rf',rf),('gnb',gnb)], voting='hard')\n",
        "#VotingClassifierModel.fit(x_train,y_train)\n",
        "#myprediction = VotingClassifierModel.predict(X_test)\n",
        "#print (myprediction)"
      ],
      "metadata": {
        "colab": {
          "base_uri": "https://localhost:8080/"
        },
        "id": "uH7Z73NObbam",
        "outputId": "8c51ae74-4239-4788-95b1-3eefe09ee27d"
      },
      "execution_count": null,
      "outputs": [
        {
          "output_type": "stream",
          "name": "stderr",
          "text": [
            "/usr/local/lib/python3.7/dist-packages/sklearn/linear_model/_logistic.py:818: ConvergenceWarning: lbfgs failed to converge (status=1):\n",
            "STOP: TOTAL NO. of ITERATIONS REACHED LIMIT.\n",
            "\n",
            "Increase the number of iterations (max_iter) or scale the data as shown in:\n",
            "    https://scikit-learn.org/stable/modules/preprocessing.html\n",
            "Please also refer to the documentation for alternative solver options:\n",
            "    https://scikit-learn.org/stable/modules/linear_model.html#logistic-regression\n",
            "  extra_warning_msg=_LOGISTIC_SOLVER_CONVERGENCE_MSG,\n"
          ]
        },
        {
          "output_type": "stream",
          "name": "stdout",
          "text": [
            "[1 1 1 1 1 1 1 1 1 1 1 1 1 1 1 1 1 1 1 1 1 1 1 0 1 1 1 1 1 1 1 1 1 1 1 1 1\n",
            " 1 1 1 1 1 0 1 0 0 0 1 1 1 1 1 0 1 1 1 1 1 1 1 1 0 1 1 1 1 1 1 1 0 1 1 1 1\n",
            " 1 1 1 1 0 1 1 1 1 1 1 1 1 1 1 1 1 1 1 1 1 1 1 1 1 1 1 1 1 1 1 1 0 1 1 0 1\n",
            " 1 1 1 1 1 1 0 1 1 1 1 1 1 1 1 1 1 1 1 0 1 1 1 0 1 1 1 1 1 1 1 1 1 1 1]\n"
          ]
        }
      ]
    },
    {
      "cell_type": "code",
      "source": [
        "infile=\"/content/testdata.csv\""
      ],
      "metadata": {
        "id": "_0GF1DQ_cw6E"
      },
      "execution_count": null,
      "outputs": []
    },
    {
      "cell_type": "code",
      "source": [
        "inobj=Input()\n",
        "\n",
        "mydata,randomforestprediction=inobj.input(infile,rf)\n",
        "#mydata,naiveprediction=inobj.input(infile,gnb)\n",
        "#mydata,logosticprediction=inobj.input(infile,llf)\n",
        "#mydata,knnmodel=inobj.input(infile,knn)\n",
        "\n",
        "#print(logosticprediction)\n",
        "#print(knnmodel)\n",
        "print(randomforestprediction)\n",
        "#print(naiveprediction)"
      ],
      "metadata": {
        "colab": {
          "base_uri": "https://localhost:8080/"
        },
        "id": "E30KFnA_gGsE",
        "outputId": "0e72bb97-a560-484b-80f2-8d9df8b80286"
      },
      "execution_count": null,
      "outputs": [
        {
          "output_type": "stream",
          "name": "stdout",
          "text": [
            "[1 0 1 1 1]\n"
          ]
        }
      ]
    }
  ]
}